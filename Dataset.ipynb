{
 "cells": [
  {
   "cell_type": "markdown",
   "id": "49e49e13-7152-40aa-bc9c-39415bc29410",
   "metadata": {},
   "source": [
    "### Importation packages"
   ]
  },
  {
   "cell_type": "code",
   "execution_count": 1,
   "id": "bd191a84-b1d2-40f9-8508-f8507b5e175c",
   "metadata": {},
   "outputs": [],
   "source": [
    "import os\n",
    "import pandas as pd\n",
    "import matplotlib.pyplot as plt\n",
    "import seaborn as sb\n",
    "import numpy as np\n",
    "from sklearn.model_selection import train_test_split\n",
    "import multiprocessing\n",
    "from multiprocessing import Pool, Process, Manager\n",
    "from functools import partial\n",
    "from PIL import Image"
   ]
  },
  {
   "cell_type": "markdown",
   "id": "b73b23a2-3421-4bb0-92d2-c23cfd3dd499",
   "metadata": {},
   "source": [
    "### Importation DATA"
   ]
  },
  {
   "cell_type": "code",
   "execution_count": 2,
   "id": "8bd6d431-275a-432a-becd-b097c80651b1",
   "metadata": {},
   "outputs": [
    {
     "name": "stdout",
     "output_type": "stream",
     "text": [
      "(480, 9)\n"
     ]
    },
    {
     "data": {
      "text/html": [
       "<div>\n",
       "<style scoped>\n",
       "    .dataframe tbody tr th:only-of-type {\n",
       "        vertical-align: middle;\n",
       "    }\n",
       "\n",
       "    .dataframe tbody tr th {\n",
       "        vertical-align: top;\n",
       "    }\n",
       "\n",
       "    .dataframe thead th {\n",
       "        text-align: right;\n",
       "    }\n",
       "</style>\n",
       "<table border=\"1\" class=\"dataframe\">\n",
       "  <thead>\n",
       "    <tr style=\"text-align: right;\">\n",
       "      <th></th>\n",
       "      <th>PLATE_ID</th>\n",
       "      <th>WellID</th>\n",
       "      <th>X_POSITION</th>\n",
       "      <th>Y_POSITION</th>\n",
       "      <th>T_INDEX</th>\n",
       "      <th>Z_INDEX</th>\n",
       "      <th>SOURCE_DESCRIPTION</th>\n",
       "      <th>PATH</th>\n",
       "      <th>ImgID</th>\n",
       "    </tr>\n",
       "  </thead>\n",
       "  <tbody>\n",
       "    <tr>\n",
       "      <th>0</th>\n",
       "      <td>22931</td>\n",
       "      <td>C03</td>\n",
       "      <td>1.0</td>\n",
       "      <td>1.0</td>\n",
       "      <td>1</td>\n",
       "      <td>1</td>\n",
       "      <td>Transmitted Light 50</td>\n",
       "      <td>/media/Hcs-screen10-vi/MDStorage_17/SAMSARA-ST...</td>\n",
       "      <td>22931_C03_1_1</td>\n",
       "    </tr>\n",
       "    <tr>\n",
       "      <th>1</th>\n",
       "      <td>22931</td>\n",
       "      <td>C03</td>\n",
       "      <td>2.0</td>\n",
       "      <td>1.0</td>\n",
       "      <td>1</td>\n",
       "      <td>1</td>\n",
       "      <td>Transmitted Light 50</td>\n",
       "      <td>/media/Hcs-screen10-vi/MDStorage_17/SAMSARA-ST...</td>\n",
       "      <td>22931_C03_2_1</td>\n",
       "    </tr>\n",
       "    <tr>\n",
       "      <th>2</th>\n",
       "      <td>22931</td>\n",
       "      <td>C03</td>\n",
       "      <td>1.0</td>\n",
       "      <td>2.0</td>\n",
       "      <td>1</td>\n",
       "      <td>1</td>\n",
       "      <td>Transmitted Light 50</td>\n",
       "      <td>/media/Hcs-screen10-vi/MDStorage_17/SAMSARA-ST...</td>\n",
       "      <td>22931_C03_1_2</td>\n",
       "    </tr>\n",
       "    <tr>\n",
       "      <th>3</th>\n",
       "      <td>22931</td>\n",
       "      <td>C03</td>\n",
       "      <td>2.0</td>\n",
       "      <td>2.0</td>\n",
       "      <td>1</td>\n",
       "      <td>1</td>\n",
       "      <td>Transmitted Light 50</td>\n",
       "      <td>/media/Hcs-screen10-vi/MDStorage_17/SAMSARA-ST...</td>\n",
       "      <td>22931_C03_2_2</td>\n",
       "    </tr>\n",
       "    <tr>\n",
       "      <th>4</th>\n",
       "      <td>22931</td>\n",
       "      <td>D03</td>\n",
       "      <td>1.0</td>\n",
       "      <td>1.0</td>\n",
       "      <td>1</td>\n",
       "      <td>1</td>\n",
       "      <td>Transmitted Light 50</td>\n",
       "      <td>/media/Hcs-screen10-vi/MDStorage_17/SAMSARA-ST...</td>\n",
       "      <td>22931_D03_1_1</td>\n",
       "    </tr>\n",
       "  </tbody>\n",
       "</table>\n",
       "</div>"
      ],
      "text/plain": [
       "   PLATE_ID WellID  X_POSITION  Y_POSITION  T_INDEX  Z_INDEX  \\\n",
       "0     22931    C03         1.0         1.0        1        1   \n",
       "1     22931    C03         2.0         1.0        1        1   \n",
       "2     22931    C03         1.0         2.0        1        1   \n",
       "3     22931    C03         2.0         2.0        1        1   \n",
       "4     22931    D03         1.0         1.0        1        1   \n",
       "\n",
       "     SOURCE_DESCRIPTION                                               PATH  \\\n",
       "0  Transmitted Light 50  /media/Hcs-screen10-vi/MDStorage_17/SAMSARA-ST...   \n",
       "1  Transmitted Light 50  /media/Hcs-screen10-vi/MDStorage_17/SAMSARA-ST...   \n",
       "2  Transmitted Light 50  /media/Hcs-screen10-vi/MDStorage_17/SAMSARA-ST...   \n",
       "3  Transmitted Light 50  /media/Hcs-screen10-vi/MDStorage_17/SAMSARA-ST...   \n",
       "4  Transmitted Light 50  /media/Hcs-screen10-vi/MDStorage_17/SAMSARA-ST...   \n",
       "\n",
       "           ImgID  \n",
       "0  22931_C03_1_1  \n",
       "1  22931_C03_2_1  \n",
       "2  22931_C03_1_2  \n",
       "3  22931_C03_2_2  \n",
       "4  22931_D03_1_1  "
      ]
     },
     "execution_count": 2,
     "metadata": {},
     "output_type": "execute_result"
    }
   ],
   "source": [
    "# Images informations\n",
    "df_path = pd.read_csv(\"df_path.csv\")\n",
    "print(df_path.shape)\n",
    "df_path.head()"
   ]
  },
  {
   "cell_type": "code",
   "execution_count": 3,
   "id": "bf05b8be-1723-42d3-b776-03038e03f20c",
   "metadata": {},
   "outputs": [
    {
     "name": "stdout",
     "output_type": "stream",
     "text": [
      "(127791, 11)\n"
     ]
    },
    {
     "data": {
      "text/html": [
       "<div>\n",
       "<style scoped>\n",
       "    .dataframe tbody tr th:only-of-type {\n",
       "        vertical-align: middle;\n",
       "    }\n",
       "\n",
       "    .dataframe tbody tr th {\n",
       "        vertical-align: top;\n",
       "    }\n",
       "\n",
       "    .dataframe thead th {\n",
       "        text-align: right;\n",
       "    }\n",
       "</style>\n",
       "<table border=\"1\" class=\"dataframe\">\n",
       "  <thead>\n",
       "    <tr style=\"text-align: right;\">\n",
       "      <th></th>\n",
       "      <th>cx</th>\n",
       "      <th>cy</th>\n",
       "      <th>DAPI_ity</th>\n",
       "      <th>FITC_ity</th>\n",
       "      <th>FITC_sd</th>\n",
       "      <th>is_dead</th>\n",
       "      <th>PlateID</th>\n",
       "      <th>WellID</th>\n",
       "      <th>sxy</th>\n",
       "      <th>CellID</th>\n",
       "      <th>ImgID</th>\n",
       "    </tr>\n",
       "  </thead>\n",
       "  <tbody>\n",
       "    <tr>\n",
       "      <th>0</th>\n",
       "      <td>1619</td>\n",
       "      <td>1777</td>\n",
       "      <td>1.000000</td>\n",
       "      <td>0.351443</td>\n",
       "      <td>0.030059</td>\n",
       "      <td>1</td>\n",
       "      <td>22931</td>\n",
       "      <td>C03</td>\n",
       "      <td>[1, 1]</td>\n",
       "      <td>0</td>\n",
       "      <td>22931_C03_1_1</td>\n",
       "    </tr>\n",
       "    <tr>\n",
       "      <th>1</th>\n",
       "      <td>454</td>\n",
       "      <td>1921</td>\n",
       "      <td>0.764468</td>\n",
       "      <td>0.344118</td>\n",
       "      <td>0.053073</td>\n",
       "      <td>1</td>\n",
       "      <td>22931</td>\n",
       "      <td>C03</td>\n",
       "      <td>[1, 1]</td>\n",
       "      <td>1</td>\n",
       "      <td>22931_C03_1_1</td>\n",
       "    </tr>\n",
       "    <tr>\n",
       "      <th>2</th>\n",
       "      <td>1300</td>\n",
       "      <td>1593</td>\n",
       "      <td>0.162307</td>\n",
       "      <td>0.401410</td>\n",
       "      <td>0.028979</td>\n",
       "      <td>0</td>\n",
       "      <td>22931</td>\n",
       "      <td>C03</td>\n",
       "      <td>[1, 1]</td>\n",
       "      <td>2</td>\n",
       "      <td>22931_C03_1_1</td>\n",
       "    </tr>\n",
       "    <tr>\n",
       "      <th>3</th>\n",
       "      <td>438</td>\n",
       "      <td>461</td>\n",
       "      <td>1.000000</td>\n",
       "      <td>0.400738</td>\n",
       "      <td>0.097090</td>\n",
       "      <td>1</td>\n",
       "      <td>22931</td>\n",
       "      <td>C03</td>\n",
       "      <td>[1, 1]</td>\n",
       "      <td>3</td>\n",
       "      <td>22931_C03_1_1</td>\n",
       "    </tr>\n",
       "    <tr>\n",
       "      <th>4</th>\n",
       "      <td>326</td>\n",
       "      <td>1675</td>\n",
       "      <td>0.480760</td>\n",
       "      <td>0.374527</td>\n",
       "      <td>0.028418</td>\n",
       "      <td>0</td>\n",
       "      <td>22931</td>\n",
       "      <td>C03</td>\n",
       "      <td>[1, 1]</td>\n",
       "      <td>4</td>\n",
       "      <td>22931_C03_1_1</td>\n",
       "    </tr>\n",
       "  </tbody>\n",
       "</table>\n",
       "</div>"
      ],
      "text/plain": [
       "     cx    cy  DAPI_ity  FITC_ity   FITC_sd  is_dead  PlateID WellID     sxy  \\\n",
       "0  1619  1777  1.000000  0.351443  0.030059        1    22931    C03  [1, 1]   \n",
       "1   454  1921  0.764468  0.344118  0.053073        1    22931    C03  [1, 1]   \n",
       "2  1300  1593  0.162307  0.401410  0.028979        0    22931    C03  [1, 1]   \n",
       "3   438   461  1.000000  0.400738  0.097090        1    22931    C03  [1, 1]   \n",
       "4   326  1675  0.480760  0.374527  0.028418        0    22931    C03  [1, 1]   \n",
       "\n",
       "   CellID          ImgID  \n",
       "0       0  22931_C03_1_1  \n",
       "1       1  22931_C03_1_1  \n",
       "2       2  22931_C03_1_1  \n",
       "3       3  22931_C03_1_1  \n",
       "4       4  22931_C03_1_1  "
      ]
     },
     "execution_count": 3,
     "metadata": {},
     "output_type": "execute_result"
    }
   ],
   "source": [
    "# Labelling information\n",
    "NFT = pd.read_csv(\"NFT.csv\")\n",
    "print(NFT.shape)\n",
    "NFT.head()"
   ]
  },
  {
   "cell_type": "markdown",
   "id": "7aa0c78f-2afd-48e8-9789-a064acd3bd41",
   "metadata": {},
   "source": [
    "### Dataset distribution"
   ]
  },
  {
   "cell_type": "code",
   "execution_count": 4,
   "id": "e419241c-0028-439d-a57e-d99972b2f151",
   "metadata": {},
   "outputs": [
    {
     "data": {
      "text/plain": [
       "Text(0.5, 1.0, 'Labels distribution')"
      ]
     },
     "execution_count": 4,
     "metadata": {},
     "output_type": "execute_result"
    },
    {
     "data": {
      "image/png": "[encoded data removed]",
      "text/plain": [
       "<Figure size 500x500 with 1 Axes>"
      ]
     },
     "metadata": {},
     "output_type": "display_data"
    }
   ],
   "source": [
    "plt.figure(figsize=(5,5))\n",
    "sb.countplot(data=NFT, x= \"is_dead\")\n",
    "plt.title(\"Labels distribution\")"
   ]
  },
  {
   "cell_type": "markdown",
   "id": "e352ab09-c66a-4b5c-866d-1effa02d0f9e",
   "metadata": {},
   "source": [
    "### Dataset splitting"
   ]
  },
  {
   "cell_type": "code",
   "execution_count": 5,
   "id": "c29c1c13-6743-45e3-b2a7-472d8015a0ff",
   "metadata": {},
   "outputs": [
    {
     "name": "stdout",
     "output_type": "stream",
     "text": [
      "train (384, 9)\n",
      "val (96, 9)\n"
     ]
    }
   ],
   "source": [
    "train,val = train_test_split(df_path,test_size = 0.2, random_state = 42)\n",
    "print(\"train\",train.shape)\n",
    "print(\"val\",val.shape)\n",
    "train.to_csv(\"train_part.csv\", index_label = False)\n",
    "val.to_csv(\"val_part.csv\", index_label= False)"
   ]
  },
  {
   "cell_type": "markdown",
   "id": "774a9dfd-3ad0-4a7d-b0bc-bc9455e214b2",
   "metadata": {},
   "source": [
    "### Dataset creation"
   ]
  },
  {
   "cell_type": "code",
   "execution_count": 6,
   "id": "fbcd0309-2f98-4c5b-8834-877fae1e3982",
   "metadata": {},
   "outputs": [],
   "source": [
    "# Pading function for image size standardization\n",
    "def Pad(img, new_shape) :\n",
    "    pad = (new_shape-img.shape[0])//2\n",
    "    m = np.zeros((new_shape,new_shape))\n",
    "    if pad > 0 :\n",
    "        m[pad:img.shape[0]+pad,pad:img.shape[1]+pad:] = img\n",
    "    else : \n",
    "        pad = abs(pad)\n",
    "        m = img[pad : pad+new_shape,pad : pad+new_shape,]\n",
    "    return m\n",
    "\n",
    "\n",
    "# Image Normalization function\n",
    "def AutoNormalize(img, q = [0.0005,0.9995]) :\n",
    "    matrix = img / 2**16\n",
    "    quantile = np.quantile(matrix,q)\n",
    "    matrix_scaled = (matrix - quantile[0]) /(quantile[1]-quantile[0])\n",
    "    matrix_scaled[matrix_scaled <0] = 0\n",
    "    matrix_scaled[matrix_scaled >1] = 1\n",
    "    return matrix_scaled\n",
    "\n",
    "# Dataset making function\n",
    "def Dataset_yolo(index) :\n",
    "    row = df_path.iloc[index]\n",
    "    p = row.PLATE_ID\n",
    "    w = row.WellID\n",
    "    sxy = (int(row.X_POSITION), int(row.Y_POSITION))\n",
    "    ImgID = row.ImgID\n",
    "    path_ = row.PATH\n",
    "    img = np.array(Image.open(path_))\n",
    "    img = Pad(img, 2048)\n",
    "    #\n",
    "    img = AutoNormalize(img)\n",
    "    ishape = img.shape[0]\n",
    "\n",
    "    img = Image.fromarray((img*255).astype(\"uint8\")).convert(\"L\")\n",
    "    img.save(img_output_path+str(index).zfill(4)+\".png\")\n",
    "    \n",
    "    ###labels\n",
    "    lab = NFT[NFT.ImgID == ImgID]\n",
    "    lab = lab[[\"is_dead\",\"cy\",\"cx\"]]\n",
    "    lab.cy = lab.cy / ishape\n",
    "    lab.cx = lab.cx / ishape\n",
    "    lab[\"W\"] = 50/ ishape\n",
    "    lab[\"H\"] = 50/ ishape\n",
    "    lab.to_csv(label_output_path+str(index).zfill(4)+\".txt\", header=None, index=None, sep=' ', mode='a')"
   ]
  },
  {
   "cell_type": "code",
   "execution_count": 29,
   "id": "de107579-f1fa-4246-9261-9a7dbaf42ec7",
   "metadata": {},
   "outputs": [],
   "source": [
    "# Train part making\n",
    "img_output_path = \"datasets/images/train/\"\n",
    "label_output_path=\"datasets/labels/train/\"\n",
    "\n",
    "\n",
    "os.makedirs(img_output_path,exist_ok=True)\n",
    "os.makedirs(label_output_path,exist_ok=True)\n",
    "\n",
    "\n",
    "x = list(train.index)\n",
    "\n",
    "#\n",
    "if __name__ == '__main__':\n",
    "    with Pool(multiprocessing.cpu_count()) as pool:\n",
    "        pool.map(partial(Dataset_yolo),x)"
   ]
  },
  {
   "cell_type": "code",
   "execution_count": 34,
   "id": "f38fcd28-32e0-4cc0-92bd-5ed6508af6ca",
   "metadata": {},
   "outputs": [],
   "source": [
    "# Val part making\n",
    "img_output_path = \"datasets/images/val/\"\n",
    "label_output_path=\"datasets/labels/val/\"\n",
    "\n",
    "\n",
    "os.makedirs(img_output_path,exist_ok=True)\n",
    "os.makedirs(label_output_path,exist_ok=True)\n",
    "\n",
    "\n",
    "x = list(val.index)\n",
    "\n",
    "#\n",
    "if __name__ == '__main__':\n",
    "    with Pool(multiprocessing.cpu_count()) as pool:\n",
    "        pool.map(partial(Dataset_yolo),x)"
   ]
  }
 ],
 "metadata": {
  "kernelspec": {
   "display_name": "Python 3 (ipykernel)",
   "language": "python",
   "name": "python3"
  },
  "language_info": {
   "codemirror_mode": {
    "name": "ipython",
    "version": 3
   },
   "file_extension": ".py",
   "mimetype": "text/x-python",
   "name": "python",
   "nbconvert_exporter": "python",
   "pygments_lexer": "ipython3",
   "version": "3.9.13"
  }
 },
 "nbformat": 4,
 "nbformat_minor": 5
}
