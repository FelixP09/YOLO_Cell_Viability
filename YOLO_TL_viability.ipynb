{
 "cells": [
  {
   "cell_type": "markdown",
   "id": "eab2bbf6-3378-4b99-af0b-6f8287ea6c1f",
   "metadata": {},
   "source": [
    "###  Packages importation"
   ]
  },
  {
   "cell_type": "code",
   "execution_count": 1,
   "id": "4145322f-3dbf-4851-b6f1-70bdcbe9db44",
   "metadata": {},
   "outputs": [],
   "source": [
    "from ultralytics import YOLO\n",
    "import pandas as pd\n",
    "import os\n",
    "import numpy as np\n",
    "from PIL import Image\n",
    "import matplotlib.pyplot as plt\n",
    "DIR = os.getcwd()\n",
    "os.chdir(\"/media/Hcs-screen10-vi/\"+DIR.split(\"/\")[3]+\"/Felix/Felix/Python\")\n",
    "import Py_Metaxp\n",
    "from Py_Metaxp import *\n",
    "os.chdir(DIR)"
   ]
  },
  {
   "cell_type": "markdown",
   "id": "78bfd914-0b2b-4860-9723-6966b3bd5696",
   "metadata": {},
   "source": [
    "### Parameters"
   ]
  },
  {
   "cell_type": "code",
   "execution_count": 2,
   "id": "932dbcb3-eef6-4659-a737-345a08142f67",
   "metadata": {},
   "outputs": [],
   "source": [
    "PID = [33334]  ### Plates ID\n",
    "SERVER = \"NEO-SERVER\" ### Server name\n",
    "#\n",
    "QUANTILES = [0.0005,0.9995]  ### Min and Max quantiles for images normalization\n",
    "CONF = 0.3 ### Min Confidence value for objet detection (0 < CONF < 1)\n",
    "MAX_DET = 5000 ### Maximal number of detected objects by image\n",
    "IMGSZ = 2048 ### Images size"
   ]
  },
  {
   "cell_type": "markdown",
   "id": "e2a1da97-1fbb-46f2-a1ee-b1f9ac371ac0",
   "metadata": {},
   "source": [
    "### Model loading"
   ]
  },
  {
   "cell_type": "code",
   "execution_count": 3,
   "id": "500b500a-a9b0-4415-89bb-7d868c8495d0",
   "metadata": {},
   "outputs": [],
   "source": [
    "model_path = \"/media/Hcs-screen10-vi/DL_DATA/Felix/Segmentation/Objet_detection/YOLO/TL/04/runs/detect/train5/weights/best.pt\"\n",
    "model = YOLO(model_path)"
   ]
  },
  {
   "cell_type": "markdown",
   "id": "31623db5-50f7-4f59-a9b6-b743826fd016",
   "metadata": {},
   "source": [
    "### Get Images paths"
   ]
  },
  {
   "cell_type": "code",
   "execution_count": 177,
   "id": "58ef088a-e787-4bdb-846c-e5e1bd5dcad5",
   "metadata": {},
   "outputs": [
    {
     "name": "stdout",
     "output_type": "stream",
     "text": [
      "(7020, 8)\n"
     ]
    },
    {
     "data": {
      "text/html": [
       "<div>\n",
       "<style scoped>\n",
       "    .dataframe tbody tr th:only-of-type {\n",
       "        vertical-align: middle;\n",
       "    }\n",
       "\n",
       "    .dataframe tbody tr th {\n",
       "        vertical-align: top;\n",
       "    }\n",
       "\n",
       "    .dataframe thead th {\n",
       "        text-align: right;\n",
       "    }\n",
       "</style>\n",
       "<table border=\"1\" class=\"dataframe\">\n",
       "  <thead>\n",
       "    <tr style=\"text-align: right;\">\n",
       "      <th></th>\n",
       "      <th>PLATE_ID</th>\n",
       "      <th>WellID</th>\n",
       "      <th>X_POSITION</th>\n",
       "      <th>Y_POSITION</th>\n",
       "      <th>T_INDEX</th>\n",
       "      <th>Z_INDEX</th>\n",
       "      <th>SOURCE_DESCRIPTION</th>\n",
       "      <th>PATH</th>\n",
       "    </tr>\n",
       "  </thead>\n",
       "  <tbody>\n",
       "    <tr>\n",
       "      <th>0</th>\n",
       "      <td>33334</td>\n",
       "      <td>B02</td>\n",
       "      <td>1.0</td>\n",
       "      <td>1.0</td>\n",
       "      <td>7</td>\n",
       "      <td>1</td>\n",
       "      <td>TL25</td>\n",
       "      <td>/media/Hcs-screen10-vi/MDStorage_18/NEO-STORAG...</td>\n",
       "    </tr>\n",
       "    <tr>\n",
       "      <th>1</th>\n",
       "      <td>33334</td>\n",
       "      <td>B02</td>\n",
       "      <td>2.0</td>\n",
       "      <td>1.0</td>\n",
       "      <td>7</td>\n",
       "      <td>1</td>\n",
       "      <td>TL25</td>\n",
       "      <td>/media/Hcs-screen10-vi/MDStorage_18/NEO-STORAG...</td>\n",
       "    </tr>\n",
       "    <tr>\n",
       "      <th>2</th>\n",
       "      <td>33334</td>\n",
       "      <td>B02</td>\n",
       "      <td>3.0</td>\n",
       "      <td>1.0</td>\n",
       "      <td>7</td>\n",
       "      <td>1</td>\n",
       "      <td>TL25</td>\n",
       "      <td>/media/Hcs-screen10-vi/MDStorage_18/NEO-STORAG...</td>\n",
       "    </tr>\n",
       "    <tr>\n",
       "      <th>3</th>\n",
       "      <td>33334</td>\n",
       "      <td>B02</td>\n",
       "      <td>1.0</td>\n",
       "      <td>2.0</td>\n",
       "      <td>7</td>\n",
       "      <td>1</td>\n",
       "      <td>TL25</td>\n",
       "      <td>/media/Hcs-screen10-vi/MDStorage_18/NEO-STORAG...</td>\n",
       "    </tr>\n",
       "    <tr>\n",
       "      <th>4</th>\n",
       "      <td>33334</td>\n",
       "      <td>B02</td>\n",
       "      <td>2.0</td>\n",
       "      <td>2.0</td>\n",
       "      <td>7</td>\n",
       "      <td>1</td>\n",
       "      <td>TL25</td>\n",
       "      <td>/media/Hcs-screen10-vi/MDStorage_18/NEO-STORAG...</td>\n",
       "    </tr>\n",
       "  </tbody>\n",
       "</table>\n",
       "</div>"
      ],
      "text/plain": [
       "   PLATE_ID WellID  X_POSITION  Y_POSITION  T_INDEX  Z_INDEX  \\\n",
       "0     33334    B02         1.0         1.0        7        1   \n",
       "1     33334    B02         2.0         1.0        7        1   \n",
       "2     33334    B02         3.0         1.0        7        1   \n",
       "3     33334    B02         1.0         2.0        7        1   \n",
       "4     33334    B02         2.0         2.0        7        1   \n",
       "\n",
       "  SOURCE_DESCRIPTION                                               PATH  \n",
       "0               TL25  /media/Hcs-screen10-vi/MDStorage_18/NEO-STORAG...  \n",
       "1               TL25  /media/Hcs-screen10-vi/MDStorage_18/NEO-STORAG...  \n",
       "2               TL25  /media/Hcs-screen10-vi/MDStorage_18/NEO-STORAG...  \n",
       "3               TL25  /media/Hcs-screen10-vi/MDStorage_18/NEO-STORAG...  \n",
       "4               TL25  /media/Hcs-screen10-vi/MDStorage_18/NEO-STORAG...  "
      ]
     },
     "execution_count": 177,
     "metadata": {},
     "output_type": "execute_result"
    }
   ],
   "source": [
    "df_path = Py_Get_all_IMPath(SERVER, PID)\n",
    "\n",
    "def Select_TL(df_path) :\n",
    "    output_idx = []\n",
    "    for index, row in df_path.iterrows() :\n",
    "        if \"tl\" in row.SOURCE_DESCRIPTION.lower() or \"trans\" in  row.SOURCE_DESCRIPTION.lower() :\n",
    "            output_idx.append(index)\n",
    "    return df_path.iloc[output_idx]\n",
    "           \n",
    "df_path = Select_TL(df_path)\n",
    "print(df_path.shape)\n",
    "df_path.head()"
   ]
  },
  {
   "cell_type": "code",
   "execution_count": 182,
   "id": "bb081acf-bc69-4875-beca-6c6c10c7470a",
   "metadata": {},
   "outputs": [
    {
     "data": {
      "text/plain": [
       "7020"
      ]
     },
     "execution_count": 182,
     "metadata": {},
     "output_type": "execute_result"
    }
   ],
   "source": [
    "60*9*13"
   ]
  },
  {
   "cell_type": "markdown",
   "id": "7c6a264b-9594-465b-a2aa-d35cdcb1c7f7",
   "metadata": {},
   "source": [
    "### Preprocessing functions"
   ]
  },
  {
   "cell_type": "code",
   "execution_count": 178,
   "id": "213ac08e-9896-450c-bb60-bc793ceff0af",
   "metadata": {},
   "outputs": [],
   "source": [
    "def AutoNormalize(img, q = QUANTILES) :\n",
    "    quantile = np.quantile(img,q)\n",
    "    matrix_scaled = (img - quantile[0]) /(quantile[1]-quantile[0])\n",
    "    matrix_scaled[matrix_scaled <0] = 0\n",
    "    matrix_scaled[matrix_scaled >1] = 1\n",
    "    return matrix_scaled\n",
    "\n",
    "def Img_processing(path) :\n",
    "    img = io.imread(path)\n",
    "    img = AutoNormalize(img)\n",
    "    img = (img*255).astype(\"uint8\")\n",
    "    img = np.stack([img,img,img], axis = 2)\n",
    "    return img"
   ]
  },
  {
   "cell_type": "markdown",
   "id": "0cff68fa-613b-4426-95d7-e79b8063f70f",
   "metadata": {},
   "source": [
    "### RUN MODEL"
   ]
  },
  {
   "cell_type": "code",
   "execution_count": 179,
   "id": "90d0da68-2e98-4820-9159-4e03ceafb96a",
   "metadata": {},
   "outputs": [
    {
     "data": {
      "text/html": [
       "<div>\n",
       "<style scoped>\n",
       "    .dataframe tbody tr th:only-of-type {\n",
       "        vertical-align: middle;\n",
       "    }\n",
       "\n",
       "    .dataframe tbody tr th {\n",
       "        vertical-align: top;\n",
       "    }\n",
       "\n",
       "    .dataframe thead th {\n",
       "        text-align: right;\n",
       "    }\n",
       "</style>\n",
       "<table border=\"1\" class=\"dataframe\">\n",
       "  <thead>\n",
       "    <tr style=\"text-align: right;\">\n",
       "      <th></th>\n",
       "      <th>PLATE_ID</th>\n",
       "      <th>WellID</th>\n",
       "      <th>X_POSITION</th>\n",
       "      <th>Y_POSITION</th>\n",
       "      <th>T_INDEX</th>\n",
       "      <th>Z_INDEX</th>\n",
       "      <th>SOURCE_DESCRIPTION</th>\n",
       "      <th>PATH</th>\n",
       "    </tr>\n",
       "  </thead>\n",
       "  <tbody>\n",
       "    <tr>\n",
       "      <th>0</th>\n",
       "      <td>33334</td>\n",
       "      <td>B02</td>\n",
       "      <td>1.0</td>\n",
       "      <td>1.0</td>\n",
       "      <td>7</td>\n",
       "      <td>1</td>\n",
       "      <td>TL25</td>\n",
       "      <td>/media/Hcs-screen10-vi/MDStorage_18/NEO-STORAG...</td>\n",
       "    </tr>\n",
       "    <tr>\n",
       "      <th>1</th>\n",
       "      <td>33334</td>\n",
       "      <td>B02</td>\n",
       "      <td>2.0</td>\n",
       "      <td>1.0</td>\n",
       "      <td>7</td>\n",
       "      <td>1</td>\n",
       "      <td>TL25</td>\n",
       "      <td>/media/Hcs-screen10-vi/MDStorage_18/NEO-STORAG...</td>\n",
       "    </tr>\n",
       "    <tr>\n",
       "      <th>2</th>\n",
       "      <td>33334</td>\n",
       "      <td>B02</td>\n",
       "      <td>3.0</td>\n",
       "      <td>1.0</td>\n",
       "      <td>7</td>\n",
       "      <td>1</td>\n",
       "      <td>TL25</td>\n",
       "      <td>/media/Hcs-screen10-vi/MDStorage_18/NEO-STORAG...</td>\n",
       "    </tr>\n",
       "    <tr>\n",
       "      <th>3</th>\n",
       "      <td>33334</td>\n",
       "      <td>B02</td>\n",
       "      <td>1.0</td>\n",
       "      <td>2.0</td>\n",
       "      <td>7</td>\n",
       "      <td>1</td>\n",
       "      <td>TL25</td>\n",
       "      <td>/media/Hcs-screen10-vi/MDStorage_18/NEO-STORAG...</td>\n",
       "    </tr>\n",
       "    <tr>\n",
       "      <th>4</th>\n",
       "      <td>33334</td>\n",
       "      <td>B02</td>\n",
       "      <td>2.0</td>\n",
       "      <td>2.0</td>\n",
       "      <td>7</td>\n",
       "      <td>1</td>\n",
       "      <td>TL25</td>\n",
       "      <td>/media/Hcs-screen10-vi/MDStorage_18/NEO-STORAG...</td>\n",
       "    </tr>\n",
       "  </tbody>\n",
       "</table>\n",
       "</div>"
      ],
      "text/plain": [
       "   PLATE_ID WellID  X_POSITION  Y_POSITION  T_INDEX  Z_INDEX  \\\n",
       "0     33334    B02         1.0         1.0        7        1   \n",
       "1     33334    B02         2.0         1.0        7        1   \n",
       "2     33334    B02         3.0         1.0        7        1   \n",
       "3     33334    B02         1.0         2.0        7        1   \n",
       "4     33334    B02         2.0         2.0        7        1   \n",
       "\n",
       "  SOURCE_DESCRIPTION                                               PATH  \n",
       "0               TL25  /media/Hcs-screen10-vi/MDStorage_18/NEO-STORAG...  \n",
       "1               TL25  /media/Hcs-screen10-vi/MDStorage_18/NEO-STORAG...  \n",
       "2               TL25  /media/Hcs-screen10-vi/MDStorage_18/NEO-STORAG...  \n",
       "3               TL25  /media/Hcs-screen10-vi/MDStorage_18/NEO-STORAG...  \n",
       "4               TL25  /media/Hcs-screen10-vi/MDStorage_18/NEO-STORAG...  "
      ]
     },
     "execution_count": 179,
     "metadata": {},
     "output_type": "execute_result"
    }
   ],
   "source": [
    "df_path = df_path.iloc[0:10000]\n",
    "df_path.head()"
   ]
  },
  {
   "cell_type": "code",
   "execution_count": 148,
   "id": "10358b05-da6b-4bff-8b71-15ea10a93973",
   "metadata": {},
   "outputs": [],
   "source": [
    "def Img_coords(img_path, conf = 0.3) :\n",
    "    res = model.predict([img_path], conf = conf, max_det = 5000, imgsz = 2048, save = False, line_width = 2, verbose = False, save_txt = False,iou = 0.5, agnostic_nms = True)\n",
    "    data = pd.DataFrame()\n",
    "    boxes = res[0].boxes\n",
    "    data[\"conf\"] = boxes.conf.tolist()\n",
    "    data[\"pred_classe\"] =  boxes.cls.tolist()\n",
    "    coords = boxes.xywh.tolist()\n",
    "    data[\"cx\"] = [c[0] for c in coords]\n",
    "    data[\"cy\"] = [c[1] for c in coords]\n",
    "    #data = data[data.conf > 0.5]\n",
    "    plt.figure(figsize =(15,15))\n",
    "    #plt.imshow(res[0].plot(font_size = 0.2, conf = True, labels=True, line_width =2, probs = True))\n",
    "    plt.imshow(res[0].orig_img)\n",
    "    plt.scatter(data[data.pred_classe == 0].cx, data[data.pred_classe == 0].cy, c=\"b\", s=6)\n",
    "    plt.scatter(data[data.pred_classe == 1].cx, data[data.pred_classe == 1].cy, c=\"r\",s=6)\n",
    "    plt.show()\n",
    "    return data"
   ]
  },
  {
   "cell_type": "code",
   "execution_count": 149,
   "id": "d1acdd18-bc45-4ed9-aab2-2bf8179b1797",
   "metadata": {},
   "outputs": [],
   "source": [
    "import time"
   ]
  },
  {
   "cell_type": "code",
   "execution_count": 156,
   "id": "c9da968c-9caf-4178-af70-16f970390f39",
   "metadata": {},
   "outputs": [
    {
     "name": "stdout",
     "output_type": "stream",
     "text": [
      "(350883, 4)\n",
      "29.820331811904907\n",
      "6.716706775689888\n"
     ]
    }
   ],
   "source": [
    "start = time.time()\n",
    "df = pd.DataFrame()\n",
    "for path in df_path.PATH :\n",
    "    img = Img_processing(path)\n",
    "    res = model.predict(img, conf = CONF, max_det = MAX_DET, imgsz = IMGSZ, line_width = 2, verbose = False)\n",
    "    data = pd.DataFrame()\n",
    "    boxes = res[0].boxes\n",
    "    data[\"conf\"] = boxes.conf.tolist()\n",
    "    data[\"pred_classe\"] =  boxes.cls.tolist()\n",
    "    coords = boxes.xywh.tolist()\n",
    "    data[\"cx\"] = [c[0] for c in coords]\n",
    "    data[\"cy\"] = [c[1] for c in coords]\n",
    "    data_list.append(data)\n",
    "    \n",
    "pred_time = time.time()-start\n",
    "FPS = len(df_path)/ pred_time\n",
    "\n",
    "df = pd.concat(data_list)\n",
    "print(df.shape)\n",
    "print(time.time()-start)\n",
    "print(FPS)"
   ]
  },
  {
   "cell_type": "code",
   "execution_count": 173,
   "id": "e5fb32a1-cb82-4caf-b01c-ca795d3c9bde",
   "metadata": {},
   "outputs": [
    {
     "name": "stdout",
     "output_type": "stream",
     "text": [
      "(613, 4)\n",
      "0.1011052131652832\n",
      "FPS 9.890686827050507\n",
      "open 25.95987417053006\n",
      "process 29.602231728080064\n",
      "stack 10.95324784349606\n",
      "pred 29.799842477350225\n",
      "data 3.6848037805435947\n"
     ]
    }
   ],
   "source": [
    "start = time.time()\n",
    "\n",
    "path = df_path.PATH[0]\n",
    "img = io.imread(path)\n",
    "#img = np.array(Image.open(path))\n",
    "t1 = time.time()\n",
    "\n",
    "#matrix = img / 2**16\n",
    "quantile = np.quantile(img,QUANTILES)\n",
    "matrix_scaled = (img - quantile[0]) /(quantile[1]-quantile[0])\n",
    "matrix_scaled[matrix_scaled <0] = 0\n",
    "matrix_scaled[matrix_scaled >1] = 1\n",
    "img = matrix_scaled\n",
    "t2 = time.time()\n",
    "\n",
    "img = (img*255).astype(\"uint8\")\n",
    "img = np.stack([img,img,img], axis = 2)\n",
    "t3 = time.time()\n",
    "\n",
    "res = model.predict(img, conf = CONF, max_det = MAX_DET, imgsz = IMGSZ, line_width = 2, verbose = False)\n",
    "t4 = time.time()\n",
    "\n",
    "data = pd.DataFrame()\n",
    "boxes = res[0].boxes\n",
    "data[\"conf\"] = boxes.conf.tolist()\n",
    "data[\"pred_classe\"] =  boxes.cls.tolist()\n",
    "coords = boxes.xywh.tolist()\n",
    "data[\"cx\"] = [c[0] for c in coords]\n",
    "data[\"cy\"] = [c[1] for c in coords]\n",
    "\n",
    "print(data.shape)\n",
    "t5 = time.time()\n",
    "total = t5-start\n",
    "print(total)\n",
    "FPS = 1/ total\n",
    "print(\"FPS\",FPS)\n",
    "print(\"open\", (t1-start)/total *100)\n",
    "print(\"process\", (t2-t1)/total *100)\n",
    "print(\"stack\", (t3-t2)/total *100)\n",
    "print(\"pred\", (t4-t3)/total *100)\n",
    "print(\"data\", (t5-t4)/total *100)"
   ]
  },
  {
   "cell_type": "code",
   "execution_count": 168,
   "id": "91007f35-eb10-4a46-b477-e243fff6e780",
   "metadata": {},
   "outputs": [
    {
     "data": {
      "text/plain": [
       "99"
      ]
     },
     "execution_count": 168,
     "metadata": {},
     "output_type": "execute_result"
    }
   ],
   "source": [
    "22+40+9+25+3"
   ]
  },
  {
   "cell_type": "code",
   "execution_count": 101,
   "id": "d0acd500-9d35-4efb-a57b-e04f3022057d",
   "metadata": {},
   "outputs": [
    {
     "name": "stdout",
     "output_type": "stream",
     "text": [
      "(111078, 4)\n",
      "29.455103635787964\n",
      "6.790047159886558\n"
     ]
    }
   ],
   "source": [
    "start = time.time()\n",
    "df = pd.DataFrame()\n",
    "for path in df_path.PATH :\n",
    "    img = Img_processing(path)\n",
    "    res = model.predict(img, conf = CONF, max_det = MAX_DET, imgsz = IMGSZ, line_width = 2, verbose = False)\n",
    "    data = pd.DataFrame()\n",
    "    boxes = res[0].boxes\n",
    "    data[\"conf\"] = boxes.conf.tolist()\n",
    "    data[\"pred_classe\"] =  boxes.cls.tolist()\n",
    "    coords = boxes.xywh.tolist()\n",
    "    data[\"cx\"] = [c[0] for c in coords]\n",
    "    data[\"cy\"] = [c[1] for c in coords]\n",
    "    df = pd.concat([df,data])\n",
    "pred_time = time.time()-start\n",
    "FPS = len(df_path)/ pred_time\n",
    "print(df.shape)\n",
    "print(time.time()-start)\n",
    "print(FPS)"
   ]
  },
  {
   "cell_type": "code",
   "execution_count": 102,
   "id": "5658920b-7929-42ff-a673-9949d7262450",
   "metadata": {},
   "outputs": [
    {
     "name": "stdout",
     "output_type": "stream",
     "text": [
      "(111078, 4)\n",
      "29.720428228378296\n",
      "6.73169190553861\n"
     ]
    }
   ],
   "source": [
    "start = time.time()\n",
    "data_list = []\n",
    "for path in df_path.PATH :\n",
    "    img = Img_processing(path)\n",
    "    res = model.predict(img, conf = CONF, max_det = MAX_DET, imgsz = IMGSZ, line_width = 2, verbose = False)\n",
    "    data = pd.DataFrame()\n",
    "    boxes = res[0].boxes\n",
    "    data[\"conf\"] = boxes.conf.tolist()\n",
    "    data[\"pred_classe\"] =  boxes.cls.tolist()\n",
    "    coords = boxes.xywh.tolist()\n",
    "    data[\"cx\"] = [c[0] for c in coords]\n",
    "    data[\"cy\"] = [c[1] for c in coords]\n",
    "    data_list.append(data)\n",
    "    \n",
    "pred_time = time.time()-start\n",
    "FPS = len(df_path)/ pred_time\n",
    "\n",
    "df = pd.concat(data_list)\n",
    "print(df.shape)\n",
    "print(time.time()-start)\n",
    "print(FPS)"
   ]
  },
  {
   "cell_type": "code",
   "execution_count": 103,
   "id": "1fe55dd0-6157-4d4a-873d-ea49a28ff48d",
   "metadata": {},
   "outputs": [
    {
     "name": "stdout",
     "output_type": "stream",
     "text": [
      "(161, 4)\n",
      "25.536250114440918\n",
      "7.836223221638814\n"
     ]
    }
   ],
   "source": [
    "start = time.time()\n",
    "data_list = []\n",
    "for path in df_path.PATH :\n",
    "    img = Img_processing(path)\n",
    "    res = model.predict(img, conf = CONF, max_det = MAX_DET, imgsz = 640, line_width = 2, verbose = False)\n",
    "    data = pd.DataFrame()\n",
    "    boxes = res[0].boxes\n",
    "    data[\"conf\"] = boxes.conf.tolist()\n",
    "    data[\"pred_classe\"] =  boxes.cls.tolist()\n",
    "    coords = boxes.xywh.tolist()\n",
    "    data[\"cx\"] = [c[0] for c in coords]\n",
    "    data[\"cy\"] = [c[1] for c in coords]\n",
    "    data_list.append(data)\n",
    "    \n",
    "pred_time = time.time()-start\n",
    "FPS = len(df_path)/ pred_time\n",
    "\n",
    "df = pd.concat(data_list)\n",
    "print(df.shape)\n",
    "print(time.time()-start)\n",
    "print(FPS)"
   ]
  },
  {
   "cell_type": "code",
   "execution_count": 106,
   "id": "1dc5e520-ab27-4c41-86ba-8139d097ab59",
   "metadata": {},
   "outputs": [
    {
     "name": "stdout",
     "output_type": "stream",
     "text": [
      "23.76786994934082\n"
     ]
    }
   ],
   "source": [
    "start = time.time()\n",
    "img_list = []\n",
    "for path in df_path.PATH :\n",
    "    img = Img_processing(path)\n",
    "    img_list.append(img)\n",
    "print(time.time()-start)"
   ]
  },
  {
   "cell_type": "code",
   "execution_count": 142,
   "id": "524cfe61-ff93-4ea2-bc04-1961673547e0",
   "metadata": {},
   "outputs": [
    {
     "name": "stdout",
     "output_type": "stream",
     "text": [
      "37.64897155761719\n",
      "26.56095287053664\n",
      "1000\n"
     ]
    }
   ],
   "source": [
    "start = time.time()\n",
    "img_list = []\n",
    "for path in df_path.PATH :\n",
    "    img = np.array(Image.open(path))\n",
    "    img_list.append(img)\n",
    "print(time.time()-start)\n",
    "FPS = len(df_path)/ (time.time()-start)\n",
    "print(FPS)\n",
    "print(len(img_list))"
   ]
  },
  {
   "cell_type": "code",
   "execution_count": null,
   "id": "424fa80b-9c30-4bdc-95ba-141401620f74",
   "metadata": {},
   "outputs": [],
   "source": [
    "from skimage import io"
   ]
  },
  {
   "cell_type": "code",
   "execution_count": 151,
   "id": "3fcb0965-a4e9-42f9-ba1b-9ddaf1574537",
   "metadata": {},
   "outputs": [
    {
     "name": "stdout",
     "output_type": "stream",
     "text": [
      "4.991281986236572\n",
      "40.06881516054331\n",
      "200\n"
     ]
    }
   ],
   "source": [
    "start = time.time()\n",
    "img_list = []\n",
    "for path in df_path.PATH :\n",
    "    img = io.imread(path)\n",
    "    img_list.append(img)\n",
    "print(time.time()-start)\n",
    "FPS = len(df_path)/ (time.time()-start)\n",
    "print(FPS)\n",
    "print(len(img_list))"
   ]
  },
  {
   "cell_type": "code",
   "execution_count": 144,
   "id": "cc931b09-bea5-4b95-80eb-8576a1008d77",
   "metadata": {},
   "outputs": [
    {
     "data": {
      "text/plain": [
       "array([[6873, 6820, 6259, ..., 6364, 6531, 6977],\n",
       "       [7071, 6727, 6377, ..., 6535, 6933, 7468],\n",
       "       [7213, 6826, 6896, ..., 6347, 6322, 6710],\n",
       "       ...,\n",
       "       [8076, 7327, 7105, ..., 7689, 7118, 7271],\n",
       "       [8038, 7307, 7412, ..., 7344, 7411, 7415],\n",
       "       [7745, 7891, 7697, ..., 7151, 7120, 7315]], dtype=uint16)"
      ]
     },
     "execution_count": 144,
     "metadata": {},
     "output_type": "execute_result"
    }
   ],
   "source": [
    "img_list[0]"
   ]
  },
  {
   "cell_type": "code",
   "execution_count": 121,
   "id": "06b66810-6183-4ec1-9e35-ee8e9b7d2855",
   "metadata": {},
   "outputs": [
    {
     "name": "stdout",
     "output_type": "stream",
     "text": [
      "5.6428751945495605\n",
      "FPS 35.441406183325086\n",
      "200\n"
     ]
    }
   ],
   "source": [
    "start = time.time()\n",
    "\n",
    "def Img_processing(path) :\n",
    "    img = np.array(Image.open(path))\n",
    "    img = AutoNormalize(img)\n",
    "    img = (img*255).astype(\"uint8\")\n",
    "    img = np.stack([img,img,img], axis = 2)\n",
    "    imgs_liste.append(img)\n",
    "\n",
    "x  = df_path.PATH\n",
    "imgs_liste = Manager().list()\n",
    "\n",
    "if __name__ == '__main__':\n",
    "    with Pool(multiprocessing.cpu_count()) as pool:\n",
    "        pool.map(partial(Img_processing),x)\n",
    "        \n",
    "print(time.time()-start)\n",
    "FPS = len(df_path)/ (time.time()-start)\n",
    "print(\"FPS\",FPS)\n",
    "print(len(imgs_liste))"
   ]
  },
  {
   "cell_type": "code",
   "execution_count": 115,
   "id": "6ef2d98b-38c5-4d3d-809c-892ad726b2f2",
   "metadata": {},
   "outputs": [],
   "source": [
    "import cv2"
   ]
  },
  {
   "cell_type": "code",
   "execution_count": 117,
   "id": "4d3bfa74-59d4-4443-9efc-a9c5d9fc46a4",
   "metadata": {},
   "outputs": [
    {
     "name": "stdout",
     "output_type": "stream",
     "text": [
      "9.441652774810791\n"
     ]
    }
   ],
   "source": [
    "start = time.time()\n",
    "img_list = []\n",
    "for path in df_path.PATH :\n",
    "    img = cv2.imread(path)\n",
    "    img_list.append(img)\n",
    "print(time.time()-start)"
   ]
  },
  {
   "cell_type": "code",
   "execution_count": 112,
   "id": "d191cd84-e5c8-43fe-b8a0-c275959ef54e",
   "metadata": {},
   "outputs": [
    {
     "name": "stdout",
     "output_type": "stream",
     "text": [
      "(0, 0)\n",
      "5.90456223487854\n",
      "33.87304046367975\n"
     ]
    }
   ],
   "source": [
    "start = time.time()\n",
    "df = pd.DataFrame()\n",
    "for img in img_list :\n",
    "    res = model.predict(img, conf = CONF, max_det = MAX_DET, imgsz = 2048, line_width = 2, verbose = False)\n",
    "    data = pd.DataFrame()\n",
    "    boxes = res[0].boxes\n",
    "    data[\"conf\"] = boxes.conf.tolist()\n",
    "    data[\"pred_classe\"] =  boxes.cls.tolist()\n",
    "    coords = boxes.xywh.tolist()\n",
    "    data[\"cx\"] = [c[0] for c in coords]\n",
    "    data[\"cy\"] = [c[1] for c in coords]\n",
    "    #df = pd.concat([df,data])\n",
    "    \n",
    "pred_time = time.time()-start\n",
    "FPS = len(df_path)/ pred_time\n",
    "\n",
    "print(df.shape)\n",
    "print(time.time()-start)\n",
    "print(FPS)"
   ]
  },
  {
   "cell_type": "code",
   "execution_count": 69,
   "id": "d05dee75-eb93-4ac2-9423-22e90a81760b",
   "metadata": {},
   "outputs": [],
   "source": [
    "import multiprocessing\n",
    "from multiprocessing import Pool, Process, Manager\n",
    "from functools import partial"
   ]
  },
  {
   "cell_type": "code",
   "execution_count": 135,
   "id": "80252411-1165-4a0c-9815-aa9e5e75d5bc",
   "metadata": {},
   "outputs": [
    {
     "name": "stdout",
     "output_type": "stream",
     "text": [
      "32\n"
     ]
    }
   ],
   "source": [
    "BS = multiprocessing.cpu_count()\n",
    "print(BS)"
   ]
  },
  {
   "cell_type": "code",
   "execution_count": 136,
   "id": "e98b7617-bf1a-40b5-a9e8-dbfdec207e98",
   "metadata": {},
   "outputs": [
    {
     "name": "stdout",
     "output_type": "stream",
     "text": [
      "1000\n"
     ]
    },
    {
     "data": {
      "text/plain": [
       "Int64Index([  0,   1,   2,   3,   4,   5,   6,   7,   8,   9,\n",
       "            ...\n",
       "            990, 991, 992, 993, 994, 995, 996, 997, 998, 999],\n",
       "           dtype='int64', length=1000)"
      ]
     },
     "execution_count": 136,
     "metadata": {},
     "output_type": "execute_result"
    }
   ],
   "source": [
    "idx_liste = df_path.index\n",
    "print(len(idx_liste))\n",
    "idx_liste"
   ]
  },
  {
   "cell_type": "code",
   "execution_count": 137,
   "id": "5f57f31f-a839-493a-9c86-ac52960dbe63",
   "metadata": {},
   "outputs": [],
   "source": [
    "def Index_to_Batch(index_liste, BS) :\n",
    "    output = []\n",
    "    n = 0\n",
    "    temp = []\n",
    "    for i in index_liste :\n",
    "        n += 1\n",
    "        if n <= BS :\n",
    "            temp.append(i)\n",
    "        else :\n",
    "            n = 1\n",
    "            output.append(temp)\n",
    "            temp = []\n",
    "            temp.append(i)\n",
    "    output.append(temp)\n",
    "    return output\n",
    "\n",
    "a = Index_to_Batch(idx_liste,BS)"
   ]
  },
  {
   "cell_type": "code",
   "execution_count": 138,
   "id": "eb901926-9cb6-4d8e-b4da-a2f3156485ac",
   "metadata": {},
   "outputs": [
    {
     "data": {
      "text/plain": [
       "(2048, 2048, 3)"
      ]
     },
     "execution_count": 138,
     "metadata": {},
     "output_type": "execute_result"
    }
   ],
   "source": [
    "imgs_liste[0].shape"
   ]
  },
  {
   "cell_type": "code",
   "execution_count": 139,
   "id": "da94084c-43b0-40d5-9b82-e0ab8ab00787",
   "metadata": {},
   "outputs": [
    {
     "name": "stdout",
     "output_type": "stream",
     "text": [
      "1000\n",
      "(577480, 4)\n",
      "167.05362391471863\n",
      "FPS 5.986101807108973\n"
     ]
    }
   ],
   "source": [
    "start = time.time()\n",
    "\n",
    "\n",
    "\n",
    "a =  Index_to_Batch(idx_liste,BS)\n",
    "data_list = Manager().list()\n",
    "\n",
    "def Img_processing(x) :\n",
    "    df_ = df_path.iloc[x]\n",
    "    img = np.array(Image.open(df_.PATH))\n",
    "    img = AutoNormalize(img)\n",
    "    img = (img*255).astype(\"uint8\")\n",
    "    img = np.stack([img,img,img], axis = 2)\n",
    "    imgs_liste.append(img)\n",
    "\n",
    "for x in a :\n",
    "    imgs_liste = Manager().list()\n",
    "    \n",
    "    if __name__ == '__main__':\n",
    "        with Pool(multiprocessing.cpu_count()) as pool:\n",
    "            pool.map(partial(Img_processing),x)\n",
    "    \n",
    "    for img in imgs_liste :\n",
    "        res = model.predict(img, conf = CONF, max_det = MAX_DET, imgsz = IMGSZ, line_width = 2, verbose = False)\n",
    "        data = pd.DataFrame()\n",
    "        boxes = res[0].boxes\n",
    "        data[\"conf\"] = boxes.conf.tolist()\n",
    "        data[\"pred_classe\"] =  boxes.cls.tolist()\n",
    "        coords = boxes.xywh.tolist()\n",
    "        data[\"cx\"] = [c[0] for c in coords]\n",
    "        data[\"cy\"] = [c[1] for c in coords]\n",
    "        data_list.append(data)\n",
    "\n",
    "print(len(data_list))\n",
    "df = pd.concat(data_list)\n",
    "print(df.shape)    \n",
    "        \n",
    "total = time.time()-start\n",
    "print(total)\n",
    "FPS = len(df_path)/total\n",
    "print(\"FPS\",FPS)"
   ]
  },
  {
   "cell_type": "code",
   "execution_count": 180,
   "id": "ae5835dd-de48-47ca-87a7-9d4ac54bb5d1",
   "metadata": {},
   "outputs": [
    {
     "name": "stdout",
     "output_type": "stream",
     "text": [
      "7020\n",
      "(3827387, 4)\n",
      "454.93086099624634\n",
      "FPS 15.430916215767395\n"
     ]
    }
   ],
   "source": [
    "start = time.time()\n",
    "\n",
    "data_list = Manager().list()\n",
    "\n",
    "def Img_processing(x) :\n",
    "    df_ = df_path.iloc[x]\n",
    "    img = io.imread(df_.PATH)\n",
    "    img = AutoNormalize(img)\n",
    "    img = (img*255).astype(\"uint8\")\n",
    "    img = np.stack([img,img,img], axis = 2)\n",
    "    imgs_liste.append(img)\n",
    "\n",
    "x = df_path.index\n",
    "imgs_liste = Manager().list()\n",
    "\n",
    "if __name__ == '__main__':\n",
    "    with Pool(multiprocessing.cpu_count()) as pool:\n",
    "        pool.map(partial(Img_processing),x)\n",
    "\n",
    "for img in imgs_liste :\n",
    "    res = model.predict(img, conf = CONF, max_det = MAX_DET, imgsz = IMGSZ, line_width = 2, verbose = False)\n",
    "    data = pd.DataFrame()\n",
    "    boxes = res[0].boxes\n",
    "    data[\"conf\"] = boxes.conf.tolist()\n",
    "    data[\"pred_classe\"] =  boxes.cls.tolist()\n",
    "    coords = boxes.xywh.tolist()\n",
    "    data[\"cx\"] = [c[0] for c in coords]\n",
    "    data[\"cy\"] = [c[1] for c in coords]\n",
    "    data_list.append(data)\n",
    "\n",
    "    \n",
    "print(len(data_list))\n",
    "df = pd.concat(data_list)\n",
    "print(df.shape)    \n",
    "        \n",
    "total = time.time()-start\n",
    "print(total)\n",
    "FPS = len(df_path)/total\n",
    "print(\"FPS\",FPS)"
   ]
  },
  {
   "cell_type": "code",
   "execution_count": null,
   "id": "3222215d-379e-45bf-ab04-db26071e86b5",
   "metadata": {},
   "outputs": [],
   "source": []
  }
 ],
 "metadata": {
  "kernelspec": {
   "display_name": "Python 3 (ipykernel)",
   "language": "python",
   "name": "python3"
  },
  "language_info": {
   "codemirror_mode": {
    "name": "ipython",
    "version": 3
   },
   "file_extension": ".py",
   "mimetype": "text/x-python",
   "name": "python",
   "nbconvert_exporter": "python",
   "pygments_lexer": "ipython3",
   "version": "3.9.13"
  }
 },
 "nbformat": 4,
 "nbformat_minor": 5
}
